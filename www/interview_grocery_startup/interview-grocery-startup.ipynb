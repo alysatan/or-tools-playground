{
 "cells": [
  {
   "cell_type": "markdown",
   "metadata": {},
   "source": [
    "Based on \n",
    "http://www.jasq.org/just-another-scala-quant/new-agey-interviews-at-the-grocery-startup\n",
    "\n",
    "\n",
    "You walk into a grocery store with a grocery bag and some cash, to buy groceries for a week.\n",
    " \n",
    "1. your bag can hold ten pounds.\n",
    "2. You have $100\n",
    "3. You need about 2000 calories a day, so a weekly shopping trip is about 14,000 calories.\n",
    "4. You must purchase at least 4 ounces of each grocery item.\n",
    "\n"
   ]
  },
  {
   "cell_type": "code",
   "execution_count": 8,
   "metadata": {
    "collapsed": true
   },
   "outputs": [],
   "source": [
    "from ortools.linear_solver import pywraplp"
   ]
  },
  {
   "cell_type": "code",
   "execution_count": 9,
   "metadata": {
    "collapsed": true
   },
   "outputs": [],
   "source": [
    "maxWeight = 10\n",
    "maxCost = 100\n",
    "minCals = 14000\n",
    "minShop = 4/16.0 #16 ounces per pound"
   ]
  },
  {
   "cell_type": "markdown",
   "metadata": {},
   "source": [
    "Dataset\n",
    "---\n",
    "\n",
    "**Calories Per Pound**\n",
    "\n",
    "Ham, 650 cals\n",
    "\n",
    "Lettuce, 70 cals\n",
    "\n",
    "Cheese, 1670 cals\n",
    "\n",
    "Tuna, 830 cals\n",
    "\n",
    "Bread, 1300 cals\n",
    "\n",
    "\n",
    "**Price Per Pound**\n",
    "\n",
    "Ham, $4\n",
    "\n",
    "Lettuce, $1.5\n",
    "\n",
    "Cheese, $5\n",
    "\n",
    "Tuna, $20\n",
    "\n",
    "Bread, $1.20\n"
   ]
  },
  {
   "cell_type": "code",
   "execution_count": 10,
   "metadata": {
    "collapsed": true
   },
   "outputs": [],
   "source": [
    "#[name, calories, prices]\n",
    "food =  [['ham',650, 4],\n",
    "\t\t['lettuce',70,1.5],\n",
    "\t\t['cheese',1670,5],\n",
    "\t\t['tuna',830,20],\n",
    "\t\t['bread',1300,1.20]]"
   ]
  },
  {
   "cell_type": "markdown",
   "metadata": {},
   "source": [
    "Create the solver and some variables"
   ]
  },
  {
   "cell_type": "code",
   "execution_count": 11,
   "metadata": {
    "collapsed": true
   },
   "outputs": [],
   "source": [
    "solver = pywraplp.Solver('SolveSimpleSystem',pywraplp.Solver.GLOP_LINEAR_PROGRAMMING)\n",
    "\n",
    "variable_list = [[]] * len(food)\n",
    "for i in range(0, len(food)):\n",
    "    #you must buy at least minShop of each\n",
    "    variable_list[i] = solver.NumVar(minShop, solver.infinity(), food[i][0])\n",
    "    "
   ]
  },
  {
   "cell_type": "markdown",
   "metadata": {},
   "source": [
    "Define the constraints"
   ]
  },
  {
   "cell_type": "code",
   "execution_count": 12,
   "metadata": {
    "collapsed": true
   },
   "outputs": [],
   "source": [
    "constraint_list=[]\n",
    "#Constraint 1: totalWeight<maxWeight\n",
    "#>=0 ham + lettuce + cheese + tuna + bread <= maxWeight\n",
    "constraint_list.append(solver.Constraint(0, maxWeight))\n",
    "for i in range(0, len(food)):\n",
    "    constraint_list[0].SetCoefficient(variable_list[i],1)\n",
    "\n",
    "#Constraint 2: total Price<=maxCost\n",
    "constraint_list.append(solver.Constraint(0, maxCost))\n",
    "for i in range(0, len(food)):\n",
    "    constraint_list[1].SetCoefficient(variable_list[i],food[i][2])\n",
    "\n",
    "#Constraint 3: total Calories>=minCals\n",
    "constraint_list.append(solver.Constraint(minCals, minCals + 100))\n",
    "for i in range(0, len(food)):\n",
    "    constraint_list[2].SetCoefficient(variable_list[i],food[i][1])\n",
    "    "
   ]
  },
  {
   "cell_type": "markdown",
   "metadata": {},
   "source": [
    "Define the objective functions"
   ]
  },
  {
   "cell_type": "code",
   "execution_count": 13,
   "metadata": {
    "collapsed": false
   },
   "outputs": [],
   "source": [
    "# Define our objective: minimizing cost\n",
    "objective = solver.Objective()\n",
    "for i in range(0, len(food)):\n",
    "    objective.SetCoefficient(variable_list[i], food[i][2])\n",
    "objective.SetMinimization()\n"
   ]
  },
  {
   "cell_type": "markdown",
   "metadata": {},
   "source": [
    "Solve!"
   ]
  },
  {
   "cell_type": "code",
   "execution_count": 14,
   "metadata": {
    "collapsed": false
   },
   "outputs": [
    {
     "name": "stdout",
     "output_type": "stream",
     "text": [
      "Successful solve.\n",
      "Problem solved in 43.000000 milliseconds\n",
      "Optimal objective value = 33.779054\n",
      "ham = 0.250000\n",
      "lettuce = 0.250000\n",
      "cheese = 4.290541\n",
      "tuna = 0.250000\n",
      "bread = 4.959459\n"
     ]
    }
   ],
   "source": [
    "result_status = solver.Solve()\n",
    "\n",
    "if result_status == solver.OPTIMAL:\n",
    "\t\tprint('Successful solve.')\n",
    "\t\t# The problem has an optimal solution.\n",
    "\t\tprint(('Problem solved in %f milliseconds' % solver.wall_time()))\n",
    "\t\t# The objective value of the solution.\n",
    "\t\tprint(('Optimal objective value = %f' % solver.Objective().Value()))\n",
    "\t\t# The value of each variable in the solution.\n",
    "\t\tfor variable in variable_list:\n",
    "\t\t\tprint(('%s = %f' % (variable.name(), variable.solution_value())))\n",
    "elif solve_status == assignment.INFEASIBLE:\n",
    "    print('No solution found.')"
   ]
  }
 ],
 "metadata": {
  "kernelspec": {
   "display_name": "Python 2",
   "language": "python",
   "name": "python2"
  },
  "language_info": {
   "codemirror_mode": {
    "name": "ipython",
    "version": 2
   },
   "file_extension": ".py",
   "mimetype": "text/x-python",
   "name": "python",
   "nbconvert_exporter": "python",
   "pygments_lexer": "ipython2",
   "version": "2.7.11"
  }
 },
 "nbformat": 4,
 "nbformat_minor": 0
}
